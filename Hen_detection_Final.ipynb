{
  "cells": [
    {
      "cell_type": "markdown",
      "metadata": {
        "id": "view-in-github",
        "colab_type": "text"
      },
      "source": [
        "<a href=\"https://colab.research.google.com/github/Isha130/Hen-Detection/blob/main/Hen_detection_Final.ipynb\" target=\"_parent\"><img src=\"https://colab.research.google.com/assets/colab-badge.svg\" alt=\"Open In Colab\"/></a>"
      ]
    },
    {
      "cell_type": "markdown",
      "metadata": {
        "id": "S1TlaZ_qFviQ"
      },
      "source": [
        "# FFMPEG installation"
      ]
    },
    {
      "cell_type": "code",
      "execution_count": null,
      "metadata": {
        "colab": {
          "base_uri": "https://localhost:8080/",
          "height": 74
        },
        "id": "siP5KreFEjvO",
        "outputId": "21e17828-20ea-49d0-93db-5d61e2fdb19c"
      },
      "outputs": [
        {
          "name": "stdout",
          "output_type": "stream",
          "text": [
            "Installation finished.\n"
          ]
        }
      ],
      "source": [
        "from IPython.display import clear_output\n",
        "import os, urllib.request\n",
        "HOME = os.path.expanduser(\"~\")\n",
        "pathDoneCMD = f'{HOME}/doneCMD.sh'\n",
        "if not os.path.exists(f\"{HOME}/.ipython/ttmg.py\"):\n",
        "    hCode = \"https://raw.githubusercontent.com/yunooooo/gcct/master/res/ttmg.py\"\n",
        "    urllib.request.urlretrieve(hCode, f\"{HOME}/.ipython/ttmg.py\")\n",
        "\n",
        "from ttmg import (\n",
        "    loadingAn,\n",
        "    textAn,\n",
        ")\n",
        "\n",
        "loadingAn(name=\"lds\")\n",
        "textAn(\"Installing Dependencies...\", ty='twg')\n",
        "os.system('pip install git+git://github.com/AWConant/jikanpy.git')\n",
        "os.system('add-apt-repository -y ppa:jonathonf/ffmpeg-4')\n",
        "os.system('apt-get update')\n",
        "os.system('apt install mediainfo')\n",
        "os.system('apt-get install ffmpeg')\n",
        "clear_output()\n",
        "print('Installation finished.')"
      ]
    },
    {
      "cell_type": "markdown",
      "metadata": {
        "id": "Un4ws9j6F4Yb"
      },
      "source": [
        "# Making Folders"
      ]
    },
    {
      "cell_type": "code",
      "execution_count": null,
      "metadata": {
        "id": "dMXca-7GF5ug"
      },
      "outputs": [],
      "source": [
        "%cd /content/\n",
        "!mkdir Rawvideo\n",
        "!mkdir finalvideo\n",
        "%cd Rawvideo"
      ]
    },
    {
      "cell_type": "markdown",
      "metadata": {
        "id": "9XtKl3iBGfDV"
      },
      "source": [
        "# Checking if the Uploaded video exist or not"
      ]
    },
    {
      "cell_type": "code",
      "execution_count": null,
      "metadata": {
        "colab": {
          "background_save": true,
          "base_uri": "https://localhost:8080/"
        },
        "id": "i7QczKVuGknh",
        "outputId": "f2d04303-e9fe-45a8-ddcd-1553a364ca34"
      },
      "outputs": [
        {
          "name": "stdout",
          "output_type": "stream",
          "text": [
            "Your video has been successfully uploaded.\n"
          ]
        }
      ],
      "source": [
        "import os\n",
        "\n",
        "if os.path.exists(\"/content/Rawvideo/video2.mp4\"):\n",
        "    print(\"Your video has been successfully uploaded.\")\n",
        "else:\n",
        "    print(\"There was an error uploading your video.\")\n"
      ]
    },
    {
      "cell_type": "markdown",
      "metadata": {
        "id": "9Ypum0c5v9LX"
      },
      "source": [
        "# Break video into frames"
      ]
    },
    {
      "cell_type": "code",
      "execution_count": null,
      "metadata": {
        "colab": {
          "background_save": true
        },
        "id": "VC0Gn8Jruasi"
      },
      "outputs": [],
      "source": [
        "import cv2\n",
        "import os\n",
        "\n",
        "video = cv2.VideoCapture('/content/Rawvideo/video2.mp4')\n",
        "\n",
        "if not os.path.exists('Rawvideo'):\n",
        "    os.makedirs('Rawvideo')\n",
        "\n",
        "frame_count = 0\n",
        "\n",
        "while True:\n",
        "\n",
        "    success, frame = video.read()\n",
        "\n",
        "\n",
        "    if not success:\n",
        "        break\n",
        "\n",
        "    # Write the current frame to a file\n",
        "    frame_name = f'frame_{frame_count:04d}.jpg'\n",
        "    frame_path = os.path.join('Rawvideo', frame_name)\n",
        "    cv2.imwrite(frame_path, frame)\n",
        "\n",
        "    # Increment the frame counter\n",
        "    frame_count += 1\n",
        "\n",
        "# Release the video file\n",
        "video.release()\n"
      ]
    },
    {
      "cell_type": "code",
      "execution_count": null,
      "metadata": {
        "id": "6wl2ca_ZwDdX"
      },
      "outputs": [],
      "source": [
        "import os\n",
        "\n",
        "video_name = \"Video3.mp4\"\n",
        "video_path = os.path.join(\"/content/Rawvideo\", video_name)\n",
        "\n",
        "try:\n",
        "    os.remove(video_path)\n",
        "    print(f\"{video_name} deleted successfully.\")\n",
        "except OSError as e:\n",
        "    print(f\"Error deleting {video_name}: {e}\")\n"
      ]
    },
    {
      "cell_type": "markdown",
      "metadata": {
        "id": "yzGlCn1LIGRg"
      },
      "source": [
        "# Roboflow installation"
      ]
    },
    {
      "cell_type": "code",
      "execution_count": null,
      "metadata": {
        "id": "8zpOPWPiIEyz"
      },
      "outputs": [],
      "source": [
        "!pip3 install roboflow"
      ]
    },
    {
      "cell_type": "markdown",
      "metadata": {
        "id": "w1r1Kyx1ISw3"
      },
      "source": [
        "#Imports"
      ]
    },
    {
      "cell_type": "code",
      "execution_count": null,
      "metadata": {
        "id": "Ro82aZbpIWz_"
      },
      "outputs": [],
      "source": [
        "from roboflow import Roboflow\n",
        "import json\n",
        "from time import sleep\n",
        "from PIL import Image, ImageDraw\n",
        "import io\n",
        "import base64\n",
        "import requests\n",
        "from os.path import exists\n",
        "import os, sys, re, glob"
      ]
    },
    {
      "cell_type": "markdown",
      "metadata": {
        "id": "RL2vvE50q29q"
      },
      "source": [
        "# Predictions"
      ]
    },
    {
      "cell_type": "code",
      "execution_count": null,
      "metadata": {
        "id": "dy9KFklZPyJx"
      },
      "outputs": [],
      "source": [
        "# workspace code\n",
        "from roboflow import Roboflow\n",
        "import json\n",
        "\n",
        "rf = Roboflow(api_key=\"5wga3sQ5ayTezA666JQq\")\n",
        "project = rf.workspace().project(\"hen-ypxio\")\n",
        "dataset = project.version(\"2\")\n",
        "\n",
        "# grab the model from that project's version\n",
        "model = dataset.model\n",
        "print(model)"
      ]
    },
    {
      "cell_type": "code",
      "execution_count": null,
      "metadata": {
        "id": "VhC8Pe-motbR"
      },
      "outputs": [],
      "source": [
        "import os\n",
        "from roboflow import Roboflow\n",
        "\n",
        "rf = Roboflow(api_key=\"5wga3sQ5ayTezA666JQq\")\n",
        "project = rf.workspace().project(\"hen-ypxio\")\n",
        "model = project.version(\"2\").model\n",
        "\n",
        "folder_path = \"/content/Rawvideo/\"\n",
        "\n",
        "# loop over all image files in the folder\n",
        "for filename in os.listdir(folder_path):\n",
        "    if filename.endswith(\".png\") or filename.endswith(\".jpg\"):\n",
        "\n",
        "        # infer on the current image file\n",
        "        image_path = os.path.join(folder_path, filename)\n",
        "        response = model.predict(image_path, confidence=40, overlap=30)\n",
        "        predictions = response.json()[\"predictions\"]\n",
        "\n",
        "        # print the results along with the image filename\n",
        "        print(f\"Image: {filename}\")\n",
        "        print(f\"Number of detected hens: {len(predictions)}\")\n",
        "        print(predictions)"
      ]
    },
    {
      "cell_type": "markdown",
      "metadata": {
        "id": "aTEtLq7aE5bA"
      },
      "source": [
        "# Deleting the original video file"
      ]
    },
    {
      "cell_type": "code",
      "execution_count": null,
      "metadata": {
        "id": "qYxyNwe0E38s"
      },
      "outputs": [],
      "source": [
        "import os\n",
        "\n",
        "folder_path = '/content/Rawvideo/'\n",
        "\n",
        "for filename in os.listdir(folder_path):\n",
        "    if filename.endswith('.mp4'):\n",
        "        os.remove(os.path.join(folder_path, filename))\n"
      ]
    },
    {
      "cell_type": "markdown",
      "metadata": {
        "id": "xOK6k-ZQrE6Z"
      },
      "source": [
        "# Drawing Bounding boxes on the extracted frames"
      ]
    },
    {
      "cell_type": "code",
      "execution_count": null,
      "metadata": {
        "id": "SKH1-VScl2kE"
      },
      "outputs": [],
      "source": [
        "from PIL import Image, ImageDraw, ImageFont\n",
        "import os\n",
        "\n",
        "# Set the path of the directory containing the images\n",
        "images_dir = '/content/Rawvideo/'\n",
        "\n",
        "# Set the path of the directory to save the output images\n",
        "output_dir = '/content/finalvideo'\n",
        "if not os.path.exists(output_dir):\n",
        "    os.makedirs(output_dir)\n",
        "\n",
        "# Loop through the images in the directory\n",
        "for image_name in os.listdir(images_dir):\n",
        "    # Check if the file is a directory or an image file\n",
        "    if os.path.isdir(os.path.join(images_dir, image_name)):\n",
        "        continue\n",
        "    # Get the path of the current image\n",
        "    image_path = os.path.join(images_dir, image_name)\n",
        "\n",
        "    # Open the image\n",
        "    image = Image.open(image_path)\n",
        "\n",
        "    # Create a new ImageDraw object and load the default font\n",
        "    draw = ImageDraw.Draw(image)\n",
        "    font = ImageFont.load_default()\n",
        "\n",
        "    # Loop through the bounding boxes and draw them on the image\n",
        "    for box in predictions:\n",
        "        color = \"#FFFF00\"\n",
        "        x1 = box['x'] - box['width'] / 2\n",
        "        x2 = box['x'] + box['width'] / 2\n",
        "        y1 = box['y'] - box['height'] / 2\n",
        "        y2 = box['y'] + box['height'] / 2\n",
        "\n",
        "        draw.rectangle([\n",
        "            x1, y1, x2, y2\n",
        "        ], outline=color, width=5)\n",
        "\n",
        "        if True:\n",
        "            text = box['class']\n",
        "            text_size = font.getsize(text)\n",
        "\n",
        "            # set button size + 10px margins\n",
        "            button_size = (text_size[0]+20, text_size[1]+20)\n",
        "            button_img = Image.new('RGBA', button_size, color)\n",
        "            # put text on button with 10px margins\n",
        "            button_draw = ImageDraw.Draw(button_img)\n",
        "            button_draw.text((10, 10), text, font=font, fill=(255,255,255,255))\n",
        "\n",
        "            # put button on source image in position (0, 0)\n",
        "            image.paste(button_img, (int(x1), int(y1)))\n",
        "\n",
        "    # Save the output image in the output directory\n",
        "    output_path = os.path.join(output_dir, image_name)\n",
        "    image.save(output_path)\n"
      ]
    },
    {
      "cell_type": "markdown",
      "metadata": {
        "id": "54GytKf9qPtD"
      },
      "source": [
        "# Combining Frames into A video"
      ]
    },
    {
      "cell_type": "code",
      "execution_count": null,
      "metadata": {
        "id": "MqZNckAcxTND"
      },
      "outputs": [],
      "source": [
        "import cv2\n",
        "import os\n",
        "\n",
        "# Set the path of the directory containing the extracted frames\n",
        "frames_dir = '/content/finalvideo'\n",
        "\n",
        "# Set the output video file name and frame size\n",
        "output_dir = '/content/finalvideo'\n",
        "if not os.path.exists(output_dir):\n",
        "    os.makedirs(output_dir)\n",
        "output_file = os.path.join(output_dir, 'output_video.mp4')\n",
        "frame_size = (640, 480)\n",
        "\n",
        "# Get the list of frame file names in the directory\n",
        "frame_names = os.listdir(frames_dir)\n",
        "\n",
        "# Sort the frame file names in ascending order\n",
        "frame_names.sort()\n",
        "\n",
        "# Initialize the video writer object\n",
        "fourcc = cv2.VideoWriter_fourcc(*'mp4v')\n",
        "video = cv2.VideoWriter(output_file, fourcc, 30, frame_size)\n",
        "\n",
        "# Loop through the frame file names and add them to the video\n",
        "for frame_name in frame_names:\n",
        "    frame_path = os.path.join(frames_dir, frame_name)\n",
        "    frame = cv2.imread(frame_path)\n",
        "\n",
        "    # Check if the frame is empty before resizing it\n",
        "    if frame is not None:\n",
        "        # Resize the frame to match the specified frame size\n",
        "        frame = cv2.resize(frame, frame_size)\n",
        "\n",
        "        # Write the frame to the output video file\n",
        "        video.write(frame)\n",
        "\n",
        "# Release the video writer object and close the output file\n",
        "video.release()"
      ]
    },
    {
      "cell_type": "markdown",
      "metadata": {
        "id": "9uPobhLdrN8l"
      },
      "source": [
        "Check the number of images in a directory"
      ]
    },
    {
      "cell_type": "code",
      "execution_count": null,
      "metadata": {
        "id": "hU_M31X0mLBv"
      },
      "outputs": [],
      "source": [
        "import glob\n",
        "\n",
        "# specify the path to the directory\n",
        "path = \"/content/Rawvideo/*.jpg\"\n",
        "\n",
        "# use glob to get a list of all PNG files in the directory\n",
        "png_files = glob.glob(path)\n",
        "\n",
        "# use len to count the number of PNG files\n",
        "num_png_files = len(png_files)\n",
        "\n",
        "print(f\"There are {num_png_files} PNG files in the directory.\")\n"
      ]
    },
    {
      "cell_type": "markdown",
      "metadata": {
        "id": "KTNO-tlSp1UI"
      },
      "source": [
        "# Delete junk png in content folder"
      ]
    },
    {
      "cell_type": "code",
      "execution_count": null,
      "metadata": {
        "id": "5RM-0z9epuJn"
      },
      "outputs": [],
      "source": [
        "import os\n",
        "\n",
        "folder_path = '/content/Rawvideo/'\n",
        "\n",
        "for filename in os.listdir(folder_path):\n",
        "    if filename.endswith('.MOV'):\n",
        "        os.remove(os.path.join(folder_path, filename))\n"
      ]
    },
    {
      "cell_type": "markdown",
      "metadata": {
        "id": "BT96r1WuILA2"
      },
      "source": [
        "# Checking directory content"
      ]
    },
    {
      "cell_type": "code",
      "execution_count": null,
      "metadata": {
        "id": "7WIEqpNpH_5A"
      },
      "outputs": [],
      "source": [
        "!ls /content/Rawvideo"
      ]
    }
  ],
  "metadata": {
    "colab": {
      "provenance": [],
      "authorship_tag": "ABX9TyPBkqFL8s3xCis5HDS7dcTc",
      "include_colab_link": true
    },
    "kernelspec": {
      "display_name": "Python 3",
      "name": "python3"
    },
    "language_info": {
      "name": "python"
    }
  },
  "nbformat": 4,
  "nbformat_minor": 0
}